{
 "cells": [
  {
   "cell_type": "code",
   "execution_count": 4,
   "metadata": {},
   "outputs": [],
   "source": [
    "import numpy as np\n",
    "from PIL import Image\n",
    "\n",
    "def compress_color_image(image_path, k, output_path):\n",
    "    \n",
    "    # Load image\n",
    "    image = Image.open(image_path)\n",
    "    A = np.array(image)\n",
    "\n",
    "    # Split into color channels\n",
    "    R = A[:,:,0]\n",
    "    G = A[:,:,1]\n",
    "    B = A[:,:,2]\n",
    "\n",
    "    # Function to compress a single channel using SVD\n",
    "    def compress_channel(channel):\n",
    "        U, sigma, VT = np.linalg.svd(channel, full_matrices=False)\n",
    "        U_k = U[:, :k]\n",
    "        sigma_k = np.diag(sigma[:k])\n",
    "        VT_k = VT[:k, :]\n",
    "        return np.dot(U_k, np.dot(sigma_k, VT_k))\n",
    "\n",
    "    # Compress each channel\n",
    "    R_k = compress_channel(R)\n",
    "    G_k = compress_channel(G)\n",
    "    B_k = compress_channel(B)\n",
    "\n",
    "    # Reconstruct the image by stacking the compressed channels\n",
    "    compressed_image_array = np.stack([R_k, G_k, B_k], axis=2)\n",
    "\n",
    "    # Handle potential out-of-bounds pixel values\n",
    "    compressed_image_array = np.clip(compressed_image_array, 0, 255)\n",
    "\n",
    "    # Convert the reconstructed array back to an image\n",
    "    compressed_image = Image.fromarray(compressed_image_array.astype('uint8'))\n",
    "\n",
    "    # Save and display the compressed image\n",
    "    compressed_image.save(output_path)\n"
   ]
  },
  {
   "cell_type": "code",
   "execution_count": 15,
   "metadata": {},
   "outputs": [],
   "source": [
    "# K in range (100,0) with 0 being the least quality\n",
    "compress_color_image('test.jpg', 20, 'compressed_color_image.jpg')\n"
   ]
  }
 ],
 "metadata": {
  "kernelspec": {
   "display_name": "Python 3",
   "language": "python",
   "name": "python3"
  },
  "language_info": {
   "codemirror_mode": {
    "name": "ipython",
    "version": 3
   },
   "file_extension": ".py",
   "mimetype": "text/x-python",
   "name": "python",
   "nbconvert_exporter": "python",
   "pygments_lexer": "ipython3",
   "version": "3.12.0"
  }
 },
 "nbformat": 4,
 "nbformat_minor": 2
}
